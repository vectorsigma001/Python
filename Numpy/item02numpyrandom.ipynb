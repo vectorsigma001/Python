{
 "cells": [
  {
   "cell_type": "code",
   "execution_count": null,
   "id": "3faa4772-ef5c-413f-ade2-89b026e4381e",
   "metadata": {},
   "outputs": [],
   "source": [
    "item 1:\n",
    "Random Intro "
   ]
  },
  {
   "cell_type": "code",
   "execution_count": 7,
   "id": "457e0b41-6f28-4d6d-9a12-297f113e8da0",
   "metadata": {},
   "outputs": [
    {
     "name": "stdout",
     "output_type": "stream",
     "text": [
      "72\n"
     ]
    }
   ],
   "source": [
    "# generate a random integer from 0 to 100\n",
    "from numpy import random\n",
    "x = random.randint(100)\n",
    "print(x)"
   ]
  },
  {
   "cell_type": "code",
   "execution_count": 9,
   "id": "22c4403e-6b31-4e98-9716-2fb95ed8a67f",
   "metadata": {},
   "outputs": [
    {
     "name": "stdout",
     "output_type": "stream",
     "text": [
      "0.8985125722070266\n"
     ]
    }
   ],
   "source": [
    "# Generate a random float from 0 to 1\n",
    "from numpy import random\n",
    "x = random.rand()\n",
    "print(x)"
   ]
  },
  {
   "cell_type": "code",
   "execution_count": 11,
   "id": "fc15ffd0-3b32-409d-83bf-e1ea793a463e",
   "metadata": {},
   "outputs": [
    {
     "name": "stdout",
     "output_type": "stream",
     "text": [
      "[36 18 62 36 50]\n"
     ]
    }
   ],
   "source": [
    "# Generate a 1-D array containing 5 random integers from 0 to 100\n",
    "from numpy import random\n",
    "x = random.randint(100, size=(5))\n",
    "print(x)"
   ]
  },
  {
   "cell_type": "code",
   "execution_count": 13,
   "id": "de54742e-20e8-4a70-a71c-1992692c391b",
   "metadata": {},
   "outputs": [
    {
     "name": "stdout",
     "output_type": "stream",
     "text": [
      "[[11 35 33 14 67]\n",
      " [18 24 43 43  1]\n",
      " [69 60 87 25  9]]\n"
     ]
    }
   ],
   "source": [
    "# Gnerate a 2-D array with 3 rows, each row containing 5 random integers from 0 to 100\n",
    "from numpy import random\n",
    "x = random.randint(100, size=(3,5))\n",
    "print(x)"
   ]
  },
  {
   "cell_type": "code",
   "execution_count": 17,
   "id": "e9a93b3a-7b56-41c7-9b9d-2a1f808fd803",
   "metadata": {},
   "outputs": [
    {
     "name": "stdout",
     "output_type": "stream",
     "text": [
      "[0.53283762 0.1527785  0.37134479 0.54427157 0.10031315]\n"
     ]
    }
   ],
   "source": [
    "# Generate a 1-D array containing 5 random floats\n",
    "from numpy import random\n",
    "x = random.rand(5)\n",
    "print(x)"
   ]
  },
  {
   "cell_type": "code",
   "execution_count": 19,
   "id": "b1d249b3-cafd-4fac-8720-6e516ebc7885",
   "metadata": {},
   "outputs": [
    {
     "name": "stdout",
     "output_type": "stream",
     "text": [
      "[[0.43401133 0.50556077 0.69716641 0.00357972 0.58987878]\n",
      " [0.70503045 0.88013629 0.23399186 0.23789604 0.41854075]\n",
      " [0.66375241 0.07737994 0.02324377 0.21550975 0.53783398]]\n"
     ]
    }
   ],
   "source": [
    "# Generate a 2-D array with 3 rows, each row containing 5 random numbers:\n",
    "from numpy import random\n",
    "x = random.rand(3, 5)\n",
    "print(x)"
   ]
  },
  {
   "cell_type": "code",
   "execution_count": 21,
   "id": "c27e4fdd-507e-4a29-9d1c-9c21397ec86a",
   "metadata": {},
   "outputs": [
    {
     "name": "stdout",
     "output_type": "stream",
     "text": [
      "3\n"
     ]
    }
   ],
   "source": [
    "# Return one of the values in an array\n",
    "from numpy import random\n",
    "x = random.choice([3,5,7,9])\n",
    "print(x)"
   ]
  },
  {
   "cell_type": "code",
   "execution_count": 23,
   "id": "2383bf01-259d-4153-80b0-d3258ecd1ad8",
   "metadata": {},
   "outputs": [
    {
     "name": "stdout",
     "output_type": "stream",
     "text": [
      "[[9 3 9 9 7]\n",
      " [9 3 7 5 9]\n",
      " [9 5 3 5 3]]\n"
     ]
    }
   ],
   "source": [
    "# Generate a 2-D array that contains of the values in the array parameter(3,5,7 and 9)\n",
    "from numpy import random\n",
    "x = random.choice([3,5,7,9], size=(3,5))\n",
    "print(x)"
   ]
  },
  {
   "cell_type": "code",
   "execution_count": null,
   "id": "da7c3b6d-7241-4575-93c0-2f3a22b3113c",
   "metadata": {},
   "outputs": [],
   "source": [
    "item 2:\n",
    "Data Distribution"
   ]
  },
  {
   "cell_type": "code",
   "execution_count": 25,
   "id": "fe19087c-0c67-4496-b5a7-705b8154d1c8",
   "metadata": {},
   "outputs": [
    {
     "name": "stdout",
     "output_type": "stream",
     "text": [
      "[7 7 5 7 5 5 7 5 7 7 7 7 7 3 7 7 7 7 7 3 5 7 7 3 7 5 5 3 3 5 7 7 5 7 7 5 5\n",
      " 7 3 7 7 5 7 3 5 5 7 7 7 5 3 7 5 7 5 7 7 3 7 7 5 3 5 7 7 7 7 5 7 5 7 5 7 3\n",
      " 7 7 5 5 5 7 5 5 7 5 7 7 7 7 7 7 7 7 7 7 5 7 7 5 7 7]\n"
     ]
    }
   ],
   "source": [
    "# Generate a 1-D array containing 100 values, where each value has to be 3,5,7 or 9.\n",
    "from numpy import random\n",
    "x = random.choice([3,5,7,9], p=[0.1, 0.3, 0.6, 0.0], size=(100))\n",
    "print(x)"
   ]
  },
  {
   "cell_type": "code",
   "execution_count": 29,
   "id": "63c71225-5289-4c43-b72d-6a348076b296",
   "metadata": {},
   "outputs": [
    {
     "name": "stdout",
     "output_type": "stream",
     "text": [
      "[[5 3 7 5 7]\n",
      " [3 7 5 7 7]\n",
      " [7 5 5 3 7]]\n"
     ]
    }
   ],
   "source": [
    "# Same example as above, but return a 2-D array with 3 rows, each containing 5 values.\n",
    "from numpy import random\n",
    "x = random.choice([3,5,7,9], p=[0.1, 0.3, 0.6, 0.0], size=(3,5))\n",
    "print(x)"
   ]
  },
  {
   "cell_type": "code",
   "execution_count": null,
   "id": "ef245a73-d39f-4f68-88b8-375040c826c0",
   "metadata": {},
   "outputs": [],
   "source": [
    "item 3:\n",
    "Random Permutation"
   ]
  },
  {
   "cell_type": "code",
   "execution_count": 31,
   "id": "4892a00c-5be0-4029-a116-d5f8d6995369",
   "metadata": {},
   "outputs": [
    {
     "name": "stdout",
     "output_type": "stream",
     "text": [
      "[4 5 3 1 2]\n"
     ]
    }
   ],
   "source": [
    "# Randomly shuffle elements of following arrat\n",
    "from numpy import random\n",
    "import numpy as np\n",
    "arr = np.array([1,2,3,4,5])\n",
    "random.shuffle(arr)\n",
    "print(arr)"
   ]
  },
  {
   "cell_type": "code",
   "execution_count": 33,
   "id": "c48124e3-909b-40eb-9690-21c659bc92be",
   "metadata": {},
   "outputs": [
    {
     "name": "stdout",
     "output_type": "stream",
     "text": [
      "[3 5 1 4 2]\n"
     ]
    }
   ],
   "source": [
    "# Generate a random permutation of elements of following array:\n",
    "from numpy import random\n",
    "import numpy as np\n",
    "arr = np.array([1,2,3,4,5])\n",
    "print(random.permutation(arr))"
   ]
  },
  {
   "cell_type": "code",
   "execution_count": null,
   "id": "ce185535-865a-488e-964b-af0dda731d0d",
   "metadata": {},
   "outputs": [],
   "source": [
    "item 4:\n",
    "Seaborn Module"
   ]
  },
  {
   "cell_type": "code",
   "execution_count": 39,
   "id": "17285244-7aee-4dda-8c55-74b42dfae4b7",
   "metadata": {},
   "outputs": [
    {
     "name": "stderr",
     "output_type": "stream",
     "text": [
      "C:\\Users\\pc\\AppData\\Local\\Temp\\ipykernel_3224\\3025518440.py:4: UserWarning: \n",
      "\n",
      "`distplot` is a deprecated function and will be removed in seaborn v0.14.0.\n",
      "\n",
      "Please adapt your code to use either `displot` (a figure-level function with\n",
      "similar flexibility) or `histplot` (an axes-level function for histograms).\n",
      "\n",
      "For a guide to updating your code to use the new functions, please see\n",
      "https://gist.github.com/mwaskom/de44147ed2974457ad6372750bbe5751\n",
      "\n",
      "  sns.distplot([0, 1, 2, 3, 4, 5])\n"
     ]
    },
    {
     "data": {
      "image/png": "[encoded data removed]",
      "text/plain": [
       "<Figure size 640x480 with 1 Axes>"
      ]
     },
     "metadata": {},
     "output_type": "display_data"
    }
   ],
   "source": [
    "# plotting a distplot\n",
    "import matplotlib.pyplot as plt\n",
    "import seaborn as sns\n",
    "sns.distplot([0, 1, 2, 3, 4, 5])\n",
    "plt.show()"
   ]
  },
  {
   "cell_type": "code",
   "execution_count": 41,
   "id": "fc78c2db-2abc-49e9-b67a-9eac38672e26",
   "metadata": {},
   "outputs": [
    {
     "name": "stderr",
     "output_type": "stream",
     "text": [
      "C:\\Users\\pc\\AppData\\Local\\Temp\\ipykernel_3224\\3500367335.py:4: UserWarning: \n",
      "\n",
      "`distplot` is a deprecated function and will be removed in seaborn v0.14.0.\n",
      "\n",
      "Please adapt your code to use either `displot` (a figure-level function with\n",
      "similar flexibility) or `kdeplot` (an axes-level function for kernel density plots).\n",
      "\n",
      "For a guide to updating your code to use the new functions, please see\n",
      "https://gist.github.com/mwaskom/de44147ed2974457ad6372750bbe5751\n",
      "\n",
      "  sns.distplot([0,1,2,3,4,5], hist=False)\n"
     ]
    },
    {
     "data": {
      "image/png": "[encoded data removed]",
      "text/plain": [
       "<Figure size 640x480 with 1 Axes>"
      ]
     },
     "metadata": {},
     "output_type": "display_data"
    }
   ],
   "source": [
    "# plotting a distplot without a histogram\n",
    "import matplotlib.pyplot as plt\n",
    "import seaborn as sns\n",
    "sns.distplot([0,1,2,3,4,5], hist=False)\n",
    "plt.show()"
   ]
  },
  {
   "cell_type": "code",
   "execution_count": null,
   "id": "81505a96-0413-4af9-8530-3280aa50de03",
   "metadata": {},
   "outputs": [],
   "source": [
    "item 5:\n",
    "Normal Distribution"
   ]
  },
  {
   "cell_type": "code",
   "execution_count": 46,
   "id": "60414006-e584-484b-a28b-9d86f07fe189",
   "metadata": {},
   "outputs": [
    {
     "name": "stdout",
     "output_type": "stream",
     "text": [
      "[[ 1.76570226  0.55259457 -0.70808867]\n",
      " [-1.00217375 -1.62058353  0.92300283]]\n"
     ]
    }
   ],
   "source": [
    "# Generate a random normal distribution of size 2*3\n",
    "from numpy import random\n",
    "x = random.normal(size=(2,3))\n",
    "print(x)"
   ]
  },
  {
   "cell_type": "code",
   "execution_count": 48,
   "id": "f3716cd5-638f-49c6-8871-e9a922c83f0e",
   "metadata": {},
   "outputs": [
    {
     "name": "stdout",
     "output_type": "stream",
     "text": [
      "[[ 2.24936616 -2.46370721  1.59600645]\n",
      " [-0.85113626  1.23080503  1.64633854]]\n"
     ]
    }
   ],
   "source": [
    "# Generate a random normal distribution of size 2*3 with mean at 1 and standard deviation of 2\n",
    "from numpy import random \n",
    "x = random.normal(loc=1, scale=2, size=(2,3))\n",
    "print(x)"
   ]
  },
  {
   "cell_type": "code",
   "execution_count": 50,
   "id": "d1e5b8ee-d018-4a78-ab9a-f287045b5a54",
   "metadata": {},
   "outputs": [
    {
     "name": "stderr",
     "output_type": "stream",
     "text": [
      "C:\\Users\\pc\\AppData\\Local\\Temp\\ipykernel_3224\\4146430018.py:5: UserWarning: \n",
      "\n",
      "`distplot` is a deprecated function and will be removed in seaborn v0.14.0.\n",
      "\n",
      "Please adapt your code to use either `displot` (a figure-level function with\n",
      "similar flexibility) or `kdeplot` (an axes-level function for kernel density plots).\n",
      "\n",
      "For a guide to updating your code to use the new functions, please see\n",
      "https://gist.github.com/mwaskom/de44147ed2974457ad6372750bbe5751\n",
      "\n",
      "  sns.distplot(random.normal(size=1000), hist=False)\n"
     ]
    },
    {
     "data": {
      "image/png": "[encoded data removed]",
      "text/plain": [
       "<Figure size 640x480 with 1 Axes>"
      ]
     },
     "metadata": {},
     "output_type": "display_data"
    }
   ],
   "source": [
    "# Visualization of Normal Distribution\n",
    "from numpy import random\n",
    "import matplotlib.pyplot as plt\n",
    "import seaborn as sns\n",
    "sns.distplot(random.normal(size=1000), hist=False)\n",
    "plt.show()"
   ]
  },
  {
   "cell_type": "code",
   "execution_count": null,
   "id": "ac448a12-410e-4fa4-a526-1c7d7318a532",
   "metadata": {},
   "outputs": [],
   "source": [
    "item 6:\n",
    "Bionmial Distrubution"
   ]
  },
  {
   "cell_type": "code",
   "execution_count": 8,
   "id": "7973cd05-6878-479f-ab1b-e9c97c633792",
   "metadata": {},
   "outputs": [
    {
     "name": "stdout",
     "output_type": "stream",
     "text": [
      "[5 3 6 3 4 5 8 2 5 7]\n"
     ]
    }
   ],
   "source": [
    "# Given 10 trials for coin toss generate 10 data points:\n",
    "from numpy import random \n",
    "x = random.binomial(n=10, p=0.5, size=10)\n",
    "print(x)"
   ]
  },
  {
   "cell_type": "code",
   "execution_count": 10,
   "id": "f32d620c-6766-49d3-af97-51c6a83cbde5",
   "metadata": {},
   "outputs": [
    {
     "name": "stderr",
     "output_type": "stream",
     "text": [
      "C:\\Users\\pc\\AppData\\Local\\Temp\\ipykernel_7884\\1249431026.py:5: UserWarning: \n",
      "\n",
      "`distplot` is a deprecated function and will be removed in seaborn v0.14.0.\n",
      "\n",
      "Please adapt your code to use either `displot` (a figure-level function with\n",
      "similar flexibility) or `histplot` (an axes-level function for histograms).\n",
      "\n",
      "For a guide to updating your code to use the new functions, please see\n",
      "https://gist.github.com/mwaskom/de44147ed2974457ad6372750bbe5751\n",
      "\n",
      "  sns.distplot(random.binomial(n=10, p=0.5, size=1000), hist=True, kde=False)\n"
     ]
    },
    {
     "data": {
      "image/png": "[encoded data removed]",
      "text/plain": [
       "<Figure size 640x480 with 1 Axes>"
      ]
     },
     "metadata": {},
     "output_type": "display_data"
    }
   ],
   "source": [
    "# visualization of binomial distribution\n",
    "from numpy import random \n",
    "import matplotlib.pyplot as plt \n",
    "import seaborn as sns \n",
    "sns.distplot(random.binomial(n=10, p=0.5, size=1000), hist=True, kde=False)\n",
    "plt.show()"
   ]
  },
  {
   "cell_type": "code",
   "execution_count": null,
   "id": "aad4ebdd-58fd-4057-8af9-4cb0765f7c32",
   "metadata": {},
   "outputs": [],
   "source": [
    "# showing normal distrubution and binomial distribution \n",
    "from numpy import random \n",
    "import matplotlib.pyplot as plt \n",
    "import seaborn as sns \n",
    "sns.distplot(random.normal(loc=50, scale=5, size=1000), hist=False, label='normal"
   ]
  }
 ],
 "metadata": {
  "kernelspec": {
   "display_name": "Python 3 (ipykernel)",
   "language": "python",
   "name": "python3"
  },
  "language_info": {
   "codemirror_mode": {
    "name": "ipython",
    "version": 3
   },
   "file_extension": ".py",
   "mimetype": "text/x-python",
   "name": "python",
   "nbconvert_exporter": "python",
   "pygments_lexer": "ipython3",
   "version": "3.12.4"
  }
 },
 "nbformat": 4,
 "nbformat_minor": 5
}
